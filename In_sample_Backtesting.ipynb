{
  "cells": [
    {
      "cell_type": "markdown",
      "metadata": {
        "colab_type": "text",
        "id": "view-in-github"
      },
      "source": [
        "<a href=\"https://colab.research.google.com/github/gia-cat-bui-le/SiEMA/blob/main/In_sample_Backtesting.ipynb\" target=\"_parent\"><img src=\"https://colab.research.google.com/assets/colab-badge.svg\" alt=\"Open In Colab\"/></a>"
      ]
    },
    {
      "cell_type": "markdown",
      "metadata": {
        "id": "lzupz4a2JddD"
      },
      "source": [
        "# In-sample Backtesting\n",
        "\n",
        "> **Group 07**\n",
        ">\n",
        "> Student 1: Phạm Việt Hoàng - 20125031\n",
        ">\n",
        "> Student 2: Phan Huỳnh Tấn Phát - 20125047\n",
        ">\n",
        "> Student 3: Bùi Lê Gia Cát - 20125071\n"
      ]
    },
    {
      "cell_type": "code",
      "execution_count": 1,
      "metadata": {
        "colab": {
          "base_uri": "https://localhost:8080/"
        },
        "id": "9BDch6SaFZrv",
        "outputId": "ba04ae1e-6794-476d-c575-eda37b8f5736"
      },
      "outputs": [
        {
          "name": "stdout",
          "output_type": "stream",
          "text": [
            "Requirement already satisfied: psycopg2 in /usr/local/python/3.10.13/lib/python3.10/site-packages (2.9.9)\n"
          ]
        }
      ],
      "source": [
        "!pip install psycopg2"
      ]
    },
    {
      "cell_type": "code",
      "execution_count": 2,
      "metadata": {
        "id": "gboPoObRGx1h"
      },
      "outputs": [],
      "source": [
        "from typing import List\n",
        "from datetime import datetime\n",
        "\n",
        "import matplotlib.dates as mdates\n",
        "import matplotlib.pyplot as plt\n",
        "\n",
        "import pandas as pd\n",
        "import numpy as np\n",
        "\n",
        "import time\n",
        "import json\n",
        "import psycopg2\n",
        "import pytz"
      ]
    },
    {
      "cell_type": "code",
      "execution_count": 3,
      "metadata": {
        "id": "L1LO9mUJG8Wb"
      },
      "outputs": [],
      "source": [
        "# host: api.algotrade.vn\n",
        "db_host = 'api.algotrade.vn'\n",
        "# port: 5432\n",
        "db_port = 5432\n",
        "# database: algotradeDB\n",
        "db_name = 'algotradeDB'\n",
        "# user: intern_read_only\n",
        "db_user = 'intern_read_only'\n",
        "# pass: Bingo@0711\n",
        "db_pass = 'Bingo@0711'"
      ]
    },
    {
      "cell_type": "code",
      "execution_count": 4,
      "metadata": {
        "id": "VIh3Tt8NI10e"
      },
      "outputs": [],
      "source": [
        "def connectDb():\n",
        "  \"\"\" Connect to the PostgreSQL database server \"\"\"\n",
        "  try:\n",
        "    # connecting to the PostgreSQL server\n",
        "    with psycopg2.connect(\n",
        "      host= db_host,\n",
        "      port= db_port,\n",
        "      database= db_name,\n",
        "      user= db_user,\n",
        "      password= db_pass,\n",
        "    ) as conn:\n",
        "      print('Connected to the PostgreSQL server.')\n",
        "      return conn\n",
        "  except (psycopg2.DatabaseError, Exception) as error:\n",
        "      print(error)"
      ]
    },
    {
      "cell_type": "code",
      "execution_count": 5,
      "metadata": {
        "colab": {
          "base_uri": "https://localhost:8080/"
        },
        "id": "NaV2oPhkHLFq",
        "outputId": "0df2e392-92f8-42d3-efdc-f3c8a7638145"
      },
      "outputs": [
        {
          "name": "stdout",
          "output_type": "stream",
          "text": [
            "Connected to the PostgreSQL server.\n"
          ]
        }
      ],
      "source": [
        "conn = connectDb()"
      ]
    },
    {
      "cell_type": "code",
      "execution_count": 6,
      "metadata": {
        "colab": {
          "base_uri": "https://localhost:8080/"
        },
        "id": "kJKoIACRKkhp",
        "outputId": "ebd7f1b7-877a-4c9e-8c6d-0c6e68564d2a"
      },
      "outputs": [
        {
          "data": {
            "text/plain": [
              "<connection object at 0x7f261a800b80; dsn: 'user=intern_read_only password=xxx dbname=algotradeDB host=api.algotrade.vn port=5432', closed: 0>"
            ]
          },
          "execution_count": 6,
          "metadata": {},
          "output_type": "execute_result"
        }
      ],
      "source": [
        "conn"
      ]
    },
    {
      "cell_type": "markdown",
      "metadata": {
        "id": "ke4xj54eJaol"
      },
      "source": [
        "# Plot input data"
      ]
    },
    {
      "cell_type": "code",
      "execution_count": 7,
      "metadata": {
        "id": "KOI0yZGhMtqx"
      },
      "outputs": [],
      "source": [
        "def get_close():\n",
        "  try:\n",
        "    with psycopg2.connect(\n",
        "      host= db_host,\n",
        "      port= db_port,\n",
        "      database= db_name,\n",
        "      user= db_user,\n",
        "      password= db_pass,\n",
        "    ) as conn:\n",
        "      with conn.cursor() as cur:\n",
        "        cur.execute(\"\"\"\n",
        "          select tb_close.datetime as datetime, tb_close.tickersymbol as symbol,\n",
        "          tb_close.price as close\n",
        "          from (\n",
        "            select *\n",
        "            from quote.close m\n",
        "          ) tb_close\n",
        "          where tb_close.tickersymbol = 'VN30F2311'\n",
        "          and tb_close.datetime between '2023-09-22' and '2023-11-17';\n",
        "        \"\"\")\n",
        "        rows = cur.fetchall()\n",
        "        print(\"The number of parts: \", cur.rowcount)\n",
        "        for row in rows:\n",
        "          print(row)\n",
        "        return rows\n",
        "  except (Exception, psycopg2.DatabaseError) as error:\n",
        "    print(error)"
      ]
    },
    {
      "cell_type": "code",
      "execution_count": 8,
      "metadata": {
        "colab": {
          "base_uri": "https://localhost:8080/"
        },
        "id": "p-EVE-jTRLWs",
        "outputId": "1ddbd5c2-b28c-4cfa-b103-f8879d40efb5"
      },
      "outputs": [
        {
          "name": "stdout",
          "output_type": "stream",
          "text": [
            "The number of parts:  40\n",
            "(datetime.date(2023, 9, 22), 'VN30F2311', Decimal('1190.00'))\n",
            "(datetime.date(2023, 9, 25), 'VN30F2311', Decimal('1165.00'))\n",
            "(datetime.date(2023, 9, 26), 'VN30F2311', Decimal('1155.40'))\n",
            "(datetime.date(2023, 9, 27), 'VN30F2311', Decimal('1164.00'))\n",
            "(datetime.date(2023, 9, 28), 'VN30F2311', Decimal('1162.80'))\n",
            "(datetime.date(2023, 9, 29), 'VN30F2311', Decimal('1162.70'))\n",
            "(datetime.date(2023, 10, 2), 'VN30F2311', Decimal('1165.00'))\n",
            "(datetime.date(2023, 10, 3), 'VN30F2311', Decimal('1131.00'))\n",
            "(datetime.date(2023, 10, 4), 'VN30F2311', Decimal('1134.50'))\n",
            "(datetime.date(2023, 10, 5), 'VN30F2311', Decimal('1124.00'))\n",
            "(datetime.date(2023, 10, 6), 'VN30F2311', Decimal('1124.00'))\n",
            "(datetime.date(2023, 10, 9), 'VN30F2311', Decimal('1142.40'))\n",
            "(datetime.date(2023, 10, 10), 'VN30F2311', Decimal('1155.40'))\n",
            "(datetime.date(2023, 10, 11), 'VN30F2311', Decimal('1163.20'))\n",
            "(datetime.date(2023, 10, 12), 'VN30F2311', Decimal('1159.30'))\n",
            "(datetime.date(2023, 10, 13), 'VN30F2311', Decimal('1159.90'))\n",
            "(datetime.date(2023, 10, 16), 'VN30F2311', Decimal('1145.00'))\n",
            "(datetime.date(2023, 10, 17), 'VN30F2311', Decimal('1134.10'))\n",
            "(datetime.date(2023, 10, 18), 'VN30F2311', Decimal('1120.00'))\n",
            "(datetime.date(2023, 10, 19), 'VN30F2311', Decimal('1099.00'))\n",
            "(datetime.date(2023, 10, 20), 'VN30F2311', Decimal('1117.00'))\n",
            "(datetime.date(2023, 10, 23), 'VN30F2311', Decimal('1104.90'))\n",
            "(datetime.date(2023, 10, 24), 'VN30F2311', Decimal('1112.00'))\n",
            "(datetime.date(2023, 10, 25), 'VN30F2311', Decimal('1109.20'))\n",
            "(datetime.date(2023, 10, 26), 'VN30F2311', Decimal('1060.00'))\n",
            "(datetime.date(2023, 10, 27), 'VN30F2311', Decimal('1068.50'))\n",
            "(datetime.date(2023, 10, 30), 'VN30F2311', Decimal('1039.90'))\n",
            "(datetime.date(2023, 10, 31), 'VN30F2311', Decimal('1039.70'))\n",
            "(datetime.date(2023, 11, 1), 'VN30F2311', Decimal('1047.50'))\n",
            "(datetime.date(2023, 11, 2), 'VN30F2311', Decimal('1087.00'))\n",
            "(datetime.date(2023, 11, 3), 'VN30F2311', Decimal('1087.00'))\n",
            "(datetime.date(2023, 11, 6), 'VN30F2311', Decimal('1106.00'))\n",
            "(datetime.date(2023, 11, 7), 'VN30F2311', Decimal('1095.40'))\n",
            "(datetime.date(2023, 11, 8), 'VN30F2311', Decimal('1134.00'))\n",
            "(datetime.date(2023, 11, 9), 'VN30F2311', Decimal('1125.00'))\n",
            "(datetime.date(2023, 11, 10), 'VN30F2311', Decimal('1108.50'))\n",
            "(datetime.date(2023, 11, 13), 'VN30F2311', Decimal('1107.00'))\n",
            "(datetime.date(2023, 11, 14), 'VN30F2311', Decimal('1120.00'))\n",
            "(datetime.date(2023, 11, 15), 'VN30F2311', Decimal('1134.00'))\n",
            "(datetime.date(2023, 11, 16), 'VN30F2311', Decimal('1125.10'))\n"
          ]
        }
      ],
      "source": [
        "rows = get_close()"
      ]
    },
    {
      "cell_type": "code",
      "execution_count": 9,
      "metadata": {
        "id": "cwC-rvnUMXwR"
      },
      "outputs": [],
      "source": [
        "rows = {\n",
        "    'Date': [date for date, _, _ in rows],\n",
        "    'Close': [close for _, _, close in rows]\n",
        "}"
      ]
    },
    {
      "cell_type": "code",
      "execution_count": 10,
      "metadata": {
        "colab": {
          "base_uri": "https://localhost:8080/"
        },
        "id": "It9qLOOpMpGs",
        "outputId": "ee897298-20aa-412e-9fe3-f9da6df673ef"
      },
      "outputs": [
        {
          "data": {
            "text/plain": [
              "{'Date': [datetime.date(2023, 9, 22),\n",
              "  datetime.date(2023, 9, 25),\n",
              "  datetime.date(2023, 9, 26),\n",
              "  datetime.date(2023, 9, 27),\n",
              "  datetime.date(2023, 9, 28),\n",
              "  datetime.date(2023, 9, 29),\n",
              "  datetime.date(2023, 10, 2),\n",
              "  datetime.date(2023, 10, 3),\n",
              "  datetime.date(2023, 10, 4),\n",
              "  datetime.date(2023, 10, 5),\n",
              "  datetime.date(2023, 10, 6),\n",
              "  datetime.date(2023, 10, 9),\n",
              "  datetime.date(2023, 10, 10),\n",
              "  datetime.date(2023, 10, 11),\n",
              "  datetime.date(2023, 10, 12),\n",
              "  datetime.date(2023, 10, 13),\n",
              "  datetime.date(2023, 10, 16),\n",
              "  datetime.date(2023, 10, 17),\n",
              "  datetime.date(2023, 10, 18),\n",
              "  datetime.date(2023, 10, 19),\n",
              "  datetime.date(2023, 10, 20),\n",
              "  datetime.date(2023, 10, 23),\n",
              "  datetime.date(2023, 10, 24),\n",
              "  datetime.date(2023, 10, 25),\n",
              "  datetime.date(2023, 10, 26),\n",
              "  datetime.date(2023, 10, 27),\n",
              "  datetime.date(2023, 10, 30),\n",
              "  datetime.date(2023, 10, 31),\n",
              "  datetime.date(2023, 11, 1),\n",
              "  datetime.date(2023, 11, 2),\n",
              "  datetime.date(2023, 11, 3),\n",
              "  datetime.date(2023, 11, 6),\n",
              "  datetime.date(2023, 11, 7),\n",
              "  datetime.date(2023, 11, 8),\n",
              "  datetime.date(2023, 11, 9),\n",
              "  datetime.date(2023, 11, 10),\n",
              "  datetime.date(2023, 11, 13),\n",
              "  datetime.date(2023, 11, 14),\n",
              "  datetime.date(2023, 11, 15),\n",
              "  datetime.date(2023, 11, 16)],\n",
              " 'Close': [Decimal('1190.00'),\n",
              "  Decimal('1165.00'),\n",
              "  Decimal('1155.40'),\n",
              "  Decimal('1164.00'),\n",
              "  Decimal('1162.80'),\n",
              "  Decimal('1162.70'),\n",
              "  Decimal('1165.00'),\n",
              "  Decimal('1131.00'),\n",
              "  Decimal('1134.50'),\n",
              "  Decimal('1124.00'),\n",
              "  Decimal('1124.00'),\n",
              "  Decimal('1142.40'),\n",
              "  Decimal('1155.40'),\n",
              "  Decimal('1163.20'),\n",
              "  Decimal('1159.30'),\n",
              "  Decimal('1159.90'),\n",
              "  Decimal('1145.00'),\n",
              "  Decimal('1134.10'),\n",
              "  Decimal('1120.00'),\n",
              "  Decimal('1099.00'),\n",
              "  Decimal('1117.00'),\n",
              "  Decimal('1104.90'),\n",
              "  Decimal('1112.00'),\n",
              "  Decimal('1109.20'),\n",
              "  Decimal('1060.00'),\n",
              "  Decimal('1068.50'),\n",
              "  Decimal('1039.90'),\n",
              "  Decimal('1039.70'),\n",
              "  Decimal('1047.50'),\n",
              "  Decimal('1087.00'),\n",
              "  Decimal('1087.00'),\n",
              "  Decimal('1106.00'),\n",
              "  Decimal('1095.40'),\n",
              "  Decimal('1134.00'),\n",
              "  Decimal('1125.00'),\n",
              "  Decimal('1108.50'),\n",
              "  Decimal('1107.00'),\n",
              "  Decimal('1120.00'),\n",
              "  Decimal('1134.00'),\n",
              "  Decimal('1125.10')]}"
            ]
          },
          "execution_count": 10,
          "metadata": {},
          "output_type": "execute_result"
        }
      ],
      "source": [
        "rows"
      ]
    },
    {
      "cell_type": "markdown",
      "metadata": {
        "id": "4fpopoHGM3qw"
      },
      "source": [
        "in-sample data"
      ]
    },
    {
      "cell_type": "code",
      "execution_count": 11,
      "metadata": {
        "colab": {
          "base_uri": "https://localhost:8080/",
          "height": 1000
        },
        "id": "kAhsEdDdNTie",
        "outputId": "b37d3d1c-aa35-4d89-bb33-59fd79e9f9bc"
      },
      "outputs": [
        {
          "data": {
            "text/html": [
              "<div>\n",
              "<style scoped>\n",
              "    .dataframe tbody tr th:only-of-type {\n",
              "        vertical-align: middle;\n",
              "    }\n",
              "\n",
              "    .dataframe tbody tr th {\n",
              "        vertical-align: top;\n",
              "    }\n",
              "\n",
              "    .dataframe thead th {\n",
              "        text-align: right;\n",
              "    }\n",
              "</style>\n",
              "<table border=\"1\" class=\"dataframe\">\n",
              "  <thead>\n",
              "    <tr style=\"text-align: right;\">\n",
              "      <th></th>\n",
              "      <th>Date</th>\n",
              "      <th>Close</th>\n",
              "    </tr>\n",
              "  </thead>\n",
              "  <tbody>\n",
              "    <tr>\n",
              "      <th>0</th>\n",
              "      <td>2023-09-22</td>\n",
              "      <td>1190.00</td>\n",
              "    </tr>\n",
              "    <tr>\n",
              "      <th>1</th>\n",
              "      <td>2023-09-25</td>\n",
              "      <td>1165.00</td>\n",
              "    </tr>\n",
              "    <tr>\n",
              "      <th>2</th>\n",
              "      <td>2023-09-26</td>\n",
              "      <td>1155.40</td>\n",
              "    </tr>\n",
              "    <tr>\n",
              "      <th>3</th>\n",
              "      <td>2023-09-27</td>\n",
              "      <td>1164.00</td>\n",
              "    </tr>\n",
              "    <tr>\n",
              "      <th>4</th>\n",
              "      <td>2023-09-28</td>\n",
              "      <td>1162.80</td>\n",
              "    </tr>\n",
              "    <tr>\n",
              "      <th>5</th>\n",
              "      <td>2023-09-29</td>\n",
              "      <td>1162.70</td>\n",
              "    </tr>\n",
              "    <tr>\n",
              "      <th>6</th>\n",
              "      <td>2023-10-02</td>\n",
              "      <td>1165.00</td>\n",
              "    </tr>\n",
              "    <tr>\n",
              "      <th>7</th>\n",
              "      <td>2023-10-03</td>\n",
              "      <td>1131.00</td>\n",
              "    </tr>\n",
              "    <tr>\n",
              "      <th>8</th>\n",
              "      <td>2023-10-04</td>\n",
              "      <td>1134.50</td>\n",
              "    </tr>\n",
              "    <tr>\n",
              "      <th>9</th>\n",
              "      <td>2023-10-05</td>\n",
              "      <td>1124.00</td>\n",
              "    </tr>\n",
              "    <tr>\n",
              "      <th>10</th>\n",
              "      <td>2023-10-06</td>\n",
              "      <td>1124.00</td>\n",
              "    </tr>\n",
              "    <tr>\n",
              "      <th>11</th>\n",
              "      <td>2023-10-09</td>\n",
              "      <td>1142.40</td>\n",
              "    </tr>\n",
              "    <tr>\n",
              "      <th>12</th>\n",
              "      <td>2023-10-10</td>\n",
              "      <td>1155.40</td>\n",
              "    </tr>\n",
              "    <tr>\n",
              "      <th>13</th>\n",
              "      <td>2023-10-11</td>\n",
              "      <td>1163.20</td>\n",
              "    </tr>\n",
              "    <tr>\n",
              "      <th>14</th>\n",
              "      <td>2023-10-12</td>\n",
              "      <td>1159.30</td>\n",
              "    </tr>\n",
              "    <tr>\n",
              "      <th>15</th>\n",
              "      <td>2023-10-13</td>\n",
              "      <td>1159.90</td>\n",
              "    </tr>\n",
              "    <tr>\n",
              "      <th>16</th>\n",
              "      <td>2023-10-16</td>\n",
              "      <td>1145.00</td>\n",
              "    </tr>\n",
              "    <tr>\n",
              "      <th>17</th>\n",
              "      <td>2023-10-17</td>\n",
              "      <td>1134.10</td>\n",
              "    </tr>\n",
              "    <tr>\n",
              "      <th>18</th>\n",
              "      <td>2023-10-18</td>\n",
              "      <td>1120.00</td>\n",
              "    </tr>\n",
              "    <tr>\n",
              "      <th>19</th>\n",
              "      <td>2023-10-19</td>\n",
              "      <td>1099.00</td>\n",
              "    </tr>\n",
              "    <tr>\n",
              "      <th>20</th>\n",
              "      <td>2023-10-20</td>\n",
              "      <td>1117.00</td>\n",
              "    </tr>\n",
              "    <tr>\n",
              "      <th>21</th>\n",
              "      <td>2023-10-23</td>\n",
              "      <td>1104.90</td>\n",
              "    </tr>\n",
              "    <tr>\n",
              "      <th>22</th>\n",
              "      <td>2023-10-24</td>\n",
              "      <td>1112.00</td>\n",
              "    </tr>\n",
              "    <tr>\n",
              "      <th>23</th>\n",
              "      <td>2023-10-25</td>\n",
              "      <td>1109.20</td>\n",
              "    </tr>\n",
              "    <tr>\n",
              "      <th>24</th>\n",
              "      <td>2023-10-26</td>\n",
              "      <td>1060.00</td>\n",
              "    </tr>\n",
              "    <tr>\n",
              "      <th>25</th>\n",
              "      <td>2023-10-27</td>\n",
              "      <td>1068.50</td>\n",
              "    </tr>\n",
              "    <tr>\n",
              "      <th>26</th>\n",
              "      <td>2023-10-30</td>\n",
              "      <td>1039.90</td>\n",
              "    </tr>\n",
              "    <tr>\n",
              "      <th>27</th>\n",
              "      <td>2023-10-31</td>\n",
              "      <td>1039.70</td>\n",
              "    </tr>\n",
              "    <tr>\n",
              "      <th>28</th>\n",
              "      <td>2023-11-01</td>\n",
              "      <td>1047.50</td>\n",
              "    </tr>\n",
              "    <tr>\n",
              "      <th>29</th>\n",
              "      <td>2023-11-02</td>\n",
              "      <td>1087.00</td>\n",
              "    </tr>\n",
              "    <tr>\n",
              "      <th>30</th>\n",
              "      <td>2023-11-03</td>\n",
              "      <td>1087.00</td>\n",
              "    </tr>\n",
              "    <tr>\n",
              "      <th>31</th>\n",
              "      <td>2023-11-06</td>\n",
              "      <td>1106.00</td>\n",
              "    </tr>\n",
              "    <tr>\n",
              "      <th>32</th>\n",
              "      <td>2023-11-07</td>\n",
              "      <td>1095.40</td>\n",
              "    </tr>\n",
              "    <tr>\n",
              "      <th>33</th>\n",
              "      <td>2023-11-08</td>\n",
              "      <td>1134.00</td>\n",
              "    </tr>\n",
              "    <tr>\n",
              "      <th>34</th>\n",
              "      <td>2023-11-09</td>\n",
              "      <td>1125.00</td>\n",
              "    </tr>\n",
              "    <tr>\n",
              "      <th>35</th>\n",
              "      <td>2023-11-10</td>\n",
              "      <td>1108.50</td>\n",
              "    </tr>\n",
              "    <tr>\n",
              "      <th>36</th>\n",
              "      <td>2023-11-13</td>\n",
              "      <td>1107.00</td>\n",
              "    </tr>\n",
              "    <tr>\n",
              "      <th>37</th>\n",
              "      <td>2023-11-14</td>\n",
              "      <td>1120.00</td>\n",
              "    </tr>\n",
              "    <tr>\n",
              "      <th>38</th>\n",
              "      <td>2023-11-15</td>\n",
              "      <td>1134.00</td>\n",
              "    </tr>\n",
              "    <tr>\n",
              "      <th>39</th>\n",
              "      <td>2023-11-16</td>\n",
              "      <td>1125.10</td>\n",
              "    </tr>\n",
              "  </tbody>\n",
              "</table>\n",
              "</div>"
            ],
            "text/plain": [
              "          Date    Close\n",
              "0   2023-09-22  1190.00\n",
              "1   2023-09-25  1165.00\n",
              "2   2023-09-26  1155.40\n",
              "3   2023-09-27  1164.00\n",
              "4   2023-09-28  1162.80\n",
              "5   2023-09-29  1162.70\n",
              "6   2023-10-02  1165.00\n",
              "7   2023-10-03  1131.00\n",
              "8   2023-10-04  1134.50\n",
              "9   2023-10-05  1124.00\n",
              "10  2023-10-06  1124.00\n",
              "11  2023-10-09  1142.40\n",
              "12  2023-10-10  1155.40\n",
              "13  2023-10-11  1163.20\n",
              "14  2023-10-12  1159.30\n",
              "15  2023-10-13  1159.90\n",
              "16  2023-10-16  1145.00\n",
              "17  2023-10-17  1134.10\n",
              "18  2023-10-18  1120.00\n",
              "19  2023-10-19  1099.00\n",
              "20  2023-10-20  1117.00\n",
              "21  2023-10-23  1104.90\n",
              "22  2023-10-24  1112.00\n",
              "23  2023-10-25  1109.20\n",
              "24  2023-10-26  1060.00\n",
              "25  2023-10-27  1068.50\n",
              "26  2023-10-30  1039.90\n",
              "27  2023-10-31  1039.70\n",
              "28  2023-11-01  1047.50\n",
              "29  2023-11-02  1087.00\n",
              "30  2023-11-03  1087.00\n",
              "31  2023-11-06  1106.00\n",
              "32  2023-11-07  1095.40\n",
              "33  2023-11-08  1134.00\n",
              "34  2023-11-09  1125.00\n",
              "35  2023-11-10  1108.50\n",
              "36  2023-11-13  1107.00\n",
              "37  2023-11-14  1120.00\n",
              "38  2023-11-15  1134.00\n",
              "39  2023-11-16  1125.10"
            ]
          },
          "execution_count": 11,
          "metadata": {},
          "output_type": "execute_result"
        }
      ],
      "source": [
        "dataframe = pd.DataFrame.from_dict(rows)\n",
        "dataframe"
      ]
    },
    {
      "cell_type": "code",
      "execution_count": 12,
      "metadata": {
        "colab": {
          "base_uri": "https://localhost:8080/",
          "height": 448
        },
        "id": "8D-wvyp_OAAP",
        "outputId": "79298cf2-586d-49bb-9fef-0e16de6f9aad"
      },
      "outputs": [
        {
          "data": {
            "image/png": "[encoded data removed]",
            "text/plain": [
              "<Figure size 800x400 with 1 Axes>"
            ]
          },
          "metadata": {},
          "output_type": "display_data"
        }
      ],
      "source": [
        "# Plot the data\n",
        "plt.figure(figsize=(8, 4))\n",
        "plt.plot(dataframe['Date'], dataframe['Close'], label='Close Price')\n",
        "plt.xlabel('Date')\n",
        "plt.ylabel('Close Price')\n",
        "plt.title('In-sample Data')\n",
        "plt.xticks(rotation=30)\n",
        "plt.show()"
      ]
    }
  ],
  "metadata": {
    "colab": {
      "authorship_tag": "ABX9TyMeBhLlb/WCv8RsDdM9xaXa",
      "include_colab_link": true,
      "provenance": []
    },
    "kernelspec": {
      "display_name": "Python 3",
      "name": "python3"
    },
    "language_info": {
      "codemirror_mode": {
        "name": "ipython",
        "version": 3
      },
      "file_extension": ".py",
      "mimetype": "text/x-python",
      "name": "python",
      "nbconvert_exporter": "python",
      "pygments_lexer": "ipython3",
      "version": "3.10.13"
    }
  },
  "nbformat": 4,
  "nbformat_minor": 0
}
